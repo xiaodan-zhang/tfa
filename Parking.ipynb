{
 "cells": [
  {
   "cell_type": "code",
   "execution_count": 1,
   "id": "9a5618f5",
   "metadata": {},
   "outputs": [],
   "source": [
    "import pandas as pd"
   ]
  },
  {
   "cell_type": "code",
   "execution_count": 2,
   "id": "cbfade9f",
   "metadata": {},
   "outputs": [
    {
     "name": "stderr",
     "output_type": "stream",
     "text": [
      "/opt/anaconda3/lib/python3.8/site-packages/IPython/core/interactiveshell.py:3437: DtypeWarning: Columns (20,31,32) have mixed types.Specify dtype option on import or set low_memory=False.\n",
      "  exec(code_obj, self.user_global_ns, self.user_ns)\n"
     ]
    }
   ],
   "source": [
    "data = pd.read_csv('311_Service_Requests_2020.csv')"
   ]
  },
  {
   "cell_type": "code",
   "execution_count": 3,
   "id": "3006f21e",
   "metadata": {},
   "outputs": [],
   "source": [
    "data_zip = data[data['Incident Zip']==10018.0]"
   ]
  },
  {
   "cell_type": "code",
   "execution_count": 4,
   "id": "ac8d1d4d",
   "metadata": {},
   "outputs": [
    {
     "name": "stdout",
     "output_type": "stream",
     "text": [
      "<class 'pandas.core.frame.DataFrame'>\n",
      "Int64Index: 5107 entries, 899 to 2586402\n",
      "Data columns (total 41 columns):\n",
      " #   Column                          Non-Null Count  Dtype  \n",
      "---  ------                          --------------  -----  \n",
      " 0   Unique Key                      5107 non-null   int64  \n",
      " 1   Created Date                    5107 non-null   object \n",
      " 2   Closed Date                     4841 non-null   object \n",
      " 3   Agency                          5107 non-null   object \n",
      " 4   Agency Name                     5107 non-null   object \n",
      " 5   Complaint Type                  5107 non-null   object \n",
      " 6   Descriptor                      4259 non-null   object \n",
      " 7   Location Type                   3323 non-null   object \n",
      " 8   Incident Zip                    5107 non-null   float64\n",
      " 9   Incident Address                5024 non-null   object \n",
      " 10  Street Name                     5024 non-null   object \n",
      " 11  Cross Street 1                  4549 non-null   object \n",
      " 12  Cross Street 2                  4549 non-null   object \n",
      " 13  Intersection Street 1           4114 non-null   object \n",
      " 14  Intersection Street 2           4114 non-null   object \n",
      " 15  Address Type                    1618 non-null   object \n",
      " 16  City                            4667 non-null   object \n",
      " 17  Landmark                        3502 non-null   object \n",
      " 18  Facility Type                   21 non-null     object \n",
      " 19  Status                          5107 non-null   object \n",
      " 20  Due Date                        17 non-null     object \n",
      " 21  Resolution Description          5083 non-null   object \n",
      " 22  Resolution Action Updated Date  5089 non-null   object \n",
      " 23  Community Board                 5107 non-null   object \n",
      " 24  BBL                             4255 non-null   float64\n",
      " 25  Borough                         5107 non-null   object \n",
      " 26  X Coordinate (State Plane)      5071 non-null   float64\n",
      " 27  Y Coordinate (State Plane)      5071 non-null   float64\n",
      " 28  Open Data Channel Type          5107 non-null   object \n",
      " 29  Park Facility Name              5107 non-null   object \n",
      " 30  Park Borough                    5107 non-null   object \n",
      " 31  Vehicle Type                    4 non-null      object \n",
      " 32  Taxi Company Borough            8 non-null      object \n",
      " 33  Taxi Pick Up Location           283 non-null    object \n",
      " 34  Bridge Highway Name             0 non-null      object \n",
      " 35  Bridge Highway Direction        0 non-null      object \n",
      " 36  Road Ramp                       0 non-null      object \n",
      " 37  Bridge Highway Segment          0 non-null      object \n",
      " 38  Latitude                        5071 non-null   float64\n",
      " 39  Longitude                       5071 non-null   float64\n",
      " 40  Location                        5071 non-null   object \n",
      "dtypes: float64(6), int64(1), object(34)\n",
      "memory usage: 1.6+ MB\n"
     ]
    }
   ],
   "source": [
    "data_zip.info()"
   ]
  },
  {
   "cell_type": "code",
   "execution_count": 27,
   "id": "8e8c342b",
   "metadata": {},
   "outputs": [
    {
     "name": "stdout",
     "output_type": "stream",
     "text": [
      "0.06128842764832583\n"
     ]
    }
   ],
   "source": [
    "incident = pd.Series(data_zip.groupby('Complaint Type').size())\n",
    "parking = incident['Illegal Parking']\n",
    "incident_total = incident.sum()\n",
    "print(parking/incident_total)"
   ]
  },
  {
   "cell_type": "code",
   "execution_count": 29,
   "id": "095c30e1",
   "metadata": {},
   "outputs": [
    {
     "name": "stdout",
     "output_type": "stream",
     "text": [
      "0.07487334365033108\n"
     ]
    }
   ],
   "source": [
    "incident_all = pd.Series(data.groupby('Complaint Type').size())\n",
    "parking_all = incident_all['Illegal Parking']\n",
    "incident_all_total = incident_all.sum()\n",
    "print(parking_all/incident_all_total)"
   ]
  },
  {
   "cell_type": "code",
   "execution_count": 35,
   "id": "e540056b",
   "metadata": {},
   "outputs": [
    {
     "data": {
      "text/plain": [
       "False"
      ]
     },
     "execution_count": 35,
     "metadata": {},
     "output_type": "execute_result"
    }
   ],
   "source": [
    "if parking/incident_total > parking_all/incident_all_total:\n",
    "    higher_parking_proportion = True\n",
    "else:\n",
    "    higher_parking_proportion = False\n",
    "    \n",
    "higher_parking_proportion"
   ]
  },
  {
   "cell_type": "code",
   "execution_count": null,
   "id": "06e8118b",
   "metadata": {},
   "outputs": [],
   "source": []
  }
 ],
 "metadata": {
  "kernelspec": {
   "display_name": "Python 3",
   "language": "python",
   "name": "python3"
  },
  "language_info": {
   "codemirror_mode": {
    "name": "ipython",
    "version": 3
   },
   "file_extension": ".py",
   "mimetype": "text/x-python",
   "name": "python",
   "nbconvert_exporter": "python",
   "pygments_lexer": "ipython3",
   "version": "3.8.8"
  }
 },
 "nbformat": 4,
 "nbformat_minor": 5
}
